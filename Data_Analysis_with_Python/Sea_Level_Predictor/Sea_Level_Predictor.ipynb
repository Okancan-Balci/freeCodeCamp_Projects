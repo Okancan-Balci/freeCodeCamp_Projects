{
 "cells": [
  {
   "cell_type": "code",
   "execution_count": null,
   "id": "49a5e02c",
   "metadata": {},
   "outputs": [],
   "source": [
    "import pandas as pd\n",
    "import matplotlib.pyplot as plt\n",
    "from scipy.stats import linregress\n",
    "\n",
    "def draw_plot():\n",
    "    # Read data from file\n",
    "\n",
    "    df = pd.read_csv(\"epa-sea-level.csv\")\n",
    "    \n",
    "    # 1st Fit\n",
    "\n",
    "    fit = linregress(x = df[\"Year\"],y = df[\"CSIRO Adjusted Sea Level\"])\n",
    "    fitted_values = pd.DataFrame({\"year\" : range(1880, 2051)})\n",
    "    fitted_values[\"pred\"] = fit.intercept + fit.slope * fitted_values[\"year\"]\n",
    "    \n",
    "    # 2nd Fit\n",
    "\n",
    "    df_2000 = df[df[\"Year\"] >= 2000] \n",
    "    fit2 = linregress(x = df_2000[\"Year\"],y = df_2000[\"CSIRO Adjusted Sea Level\"])\n",
    "    fitted_values2 = pd.DataFrame({\"year\" : range(2000, 2051)})\n",
    "    fitted_values2[\"pred\"] = fit2.intercept + fit2.slope * fitted_values2[\"year\"]\n",
    "    \n",
    "    # Plot\n",
    "    \n",
    "    fig , ax = plt.subplots(figsize = (12,9))\n",
    "\n",
    "    ax.scatter(x = \"Year\", y = \"CSIRO Adjusted Sea Level\", data = df)\n",
    "    plt.plot(\"year\", \"pred\", data = fitted_values, color = \"red\")\n",
    "    plt.plot(\"year\", \"pred\", data = fitted_values2, color = \"darkred\")\n",
    "\n",
    "    ax.set_xlabel(\"Year\")\n",
    "    ax.set_ylabel(\"Sea Level (inches)\")\n",
    "    ax.set_title(\"Rise in Sea Level\")\n",
    "    \n",
    "    # Save plot and return data for testing (DO NOT MODIFY)\n",
    "    plt.savefig('sea_level_plot.png')\n",
    "    return plt.gca()"
   ]
  }
 ],
 "metadata": {
  "kernelspec": {
   "display_name": "Python 3",
   "language": "python",
   "name": "python3"
  },
  "language_info": {
   "codemirror_mode": {
    "name": "ipython",
    "version": 3
   },
   "file_extension": ".py",
   "mimetype": "text/x-python",
   "name": "python",
   "nbconvert_exporter": "python",
   "pygments_lexer": "ipython3",
   "version": "3.8.8"
  }
 },
 "nbformat": 4,
 "nbformat_minor": 5
}
