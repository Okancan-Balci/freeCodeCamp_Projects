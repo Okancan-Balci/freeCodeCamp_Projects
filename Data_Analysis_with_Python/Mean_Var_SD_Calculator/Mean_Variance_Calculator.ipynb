{
 "cells": [
  {
   "cell_type": "code",
   "execution_count": 1,
   "id": "20f012ab",
   "metadata": {},
   "outputs": [],
   "source": [
    "import numpy as np"
   ]
  },
  {
   "cell_type": "code",
   "execution_count": 64,
   "id": "4f05ffb4",
   "metadata": {},
   "outputs": [],
   "source": [
    "def calculate(digits):\n",
    "    try:\n",
    "\n",
    "        array_digits = np.array(digits).reshape((3,3))\n",
    "\n",
    "        result_dict = {\n",
    "            \"mean\" : [list(array_digits.mean(axis = 0)),\n",
    "                      list(array_digits.mean(axis = 1)),\n",
    "                      array_digits.mean()\n",
    "                     ],\n",
    "            \"variance\" : [\n",
    "                list(array_digits.var(axis = 0)),\n",
    "                list(array_digits.var(axis = 1)),\n",
    "                array_digits.var()\n",
    "            ],\n",
    "            \"standard deviation\" : [\n",
    "                list(array_digits.std(axis = 0)),\n",
    "                list(array_digits.std(axis = 1)),\n",
    "                array_digits.std()\n",
    "            ],\n",
    "            \"max\" : [\n",
    "                list(array_digits.max(axis = 0)),\n",
    "                list(array_digits.max(axis = 1)),\n",
    "                array_digits.max()\n",
    "            ],\n",
    "            \"min\" : [\n",
    "                list(array_digits.min(axis = 0)),\n",
    "                list(array_digits.min(axis = 1)),\n",
    "                array_digits.min()\n",
    "            ],\n",
    "            \"sum\" : [\n",
    "                list(array_digits.sum(axis = 0)),\n",
    "                list(array_digits.sum(axis = 1)),\n",
    "                array_digits.sum()\n",
    "            ]\n",
    "        }\n",
    "\n",
    "        return result_dict\n",
    "    \n",
    "    except ValueError:\n",
    "        raise ValueError(\"List must contain nine numbers.\")\n"
   ]
  }
 ],
 "metadata": {
  "kernelspec": {
   "display_name": "Python 3",
   "language": "python",
   "name": "python3"
  },
  "language_info": {
   "codemirror_mode": {
    "name": "ipython",
    "version": 3
   },
   "file_extension": ".py",
   "mimetype": "text/x-python",
   "name": "python",
   "nbconvert_exporter": "python",
   "pygments_lexer": "ipython3",
   "version": "3.8.8"
  }
 },
 "nbformat": 4,
 "nbformat_minor": 5
}
