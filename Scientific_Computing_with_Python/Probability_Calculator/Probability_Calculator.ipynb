{
 "cells": [
  {
   "cell_type": "code",
   "execution_count": 1,
   "id": "fc3daa5b",
   "metadata": {},
   "outputs": [],
   "source": [
    "import copy\n",
    "import random"
   ]
  },
  {
   "cell_type": "code",
   "execution_count": 20,
   "id": "44740360",
   "metadata": {},
   "outputs": [],
   "source": [
    "class Hat:\n",
    "    def __init__(self, **balls):\n",
    "        self.contents = []\n",
    "        for key, val in balls.items():\n",
    "            counter=0\n",
    "            while counter < val:\n",
    "                counter = counter + 1 \n",
    "                self.contents.append(key)\n",
    "                \n",
    "    def draw(self, number):\n",
    "        if number >= len(self.contents):\n",
    "            self.drawn = self.contents.copy()\n",
    "            self.contents.clear()\n",
    "        else:\n",
    "            self.drawn = random.sample(self.contents, number)\n",
    "            for element in self.drawn:\n",
    "                self.contents.remove(element)\n",
    "        return self.drawn"
   ]
  },
  {
   "cell_type": "code",
   "execution_count": 113,
   "id": "0e8178f7",
   "metadata": {},
   "outputs": [],
   "source": [
    "def experiment(hat, expected_balls, num_balls_drawn, num_experiments):\n",
    "    experiment_hat = hat.contents.copy()\n",
    "    condition_met = 0\n",
    "    \n",
    "    for experiment in range(num_experiments-1):\n",
    "        drawn_balls = hat.draw(num_balls_drawn)\n",
    "\n",
    "        outcomes = []\n",
    "        for ball, outcome in expected_balls.items():\n",
    "            outcomes.append(drawn_balls.count(ball) >= outcome)\n",
    "\n",
    "        if all(outcomes) == True:\n",
    "            condition_met = condition_met + 1\n",
    "        else:\n",
    "            pass\n",
    "    \n",
    "        hat.contents = experiment_hat.copy()\n",
    "        \n",
    "    return condition_met / (num_experiments - 1)"
   ]
  }
 ],
 "metadata": {
  "kernelspec": {
   "display_name": "Python 3",
   "language": "python",
   "name": "python3"
  },
  "language_info": {
   "codemirror_mode": {
    "name": "ipython",
    "version": 3
   },
   "file_extension": ".py",
   "mimetype": "text/x-python",
   "name": "python",
   "nbconvert_exporter": "python",
   "pygments_lexer": "ipython3",
   "version": "3.8.8"
  }
 },
 "nbformat": 4,
 "nbformat_minor": 5
}
