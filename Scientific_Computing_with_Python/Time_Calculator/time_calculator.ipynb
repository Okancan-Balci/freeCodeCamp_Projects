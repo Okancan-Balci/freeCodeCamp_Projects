{
 "cells": [
  {
   "cell_type": "code",
   "execution_count": 98,
   "id": "4fb9412e",
   "metadata": {},
   "outputs": [],
   "source": [
    "def add_time(start, duration, dayofweek = None):\n",
    "    # Prepare start time variables\n",
    "    start_list = start.split(sep = \" \")\n",
    "    mode = start_list[1]\n",
    "    hour = int(start_list[0].split(sep = \":\")[0])\n",
    "    minute = int(start_list[0].split(sep = \":\")[1])\n",
    "    \n",
    "    # Prepare duration time variables\n",
    "    duration_list = duration.split(sep = \":\")\n",
    "    dur_hour = int(duration_list[0])\n",
    "    dur_minute = int(duration_list[1])\n",
    "\n",
    "    # Arange minutes\n",
    "    new_minute = minute + dur_minute\n",
    "    minute_over = new_minute // 60\n",
    "    minute_remain = new_minute % 60\n",
    "    \n",
    "    # Arange hours\n",
    "    new_hour = hour + minute_over + dur_hour\n",
    "    hour_over = new_hour // 12\n",
    "    hour_remain = new_hour % 12\n",
    "    if hour_remain == 0:\n",
    "        hour_remain = int(12)\n",
    "    \n",
    "    # Arange mode\n",
    "    new_mode = mode\n",
    "    if hour_over % 2 == 1:\n",
    "        if mode == \"AM\":\n",
    "            new_mode = \"PM\"\n",
    "        elif mode == \"PM\":\n",
    "            new_mode = \"AM\"\n",
    "        else:\n",
    "            pass\n",
    "    \n",
    "    # Arange day information\n",
    "    next_day = False\n",
    "    day_over = hour_over // 2\n",
    "    if (day_over == 0) & (mode == \"PM\") & (new_mode == \"AM\"):\n",
    "        next_day = True\n",
    "    elif (mode == \"PM\") & (new_mode == \"AM\"):\n",
    "        day_over = day_over + 1\n",
    "    else:\n",
    "        pass\n",
    "    \n",
    "    # Arange days\n",
    "    if dayofweek is not None:\n",
    "        days = [\"monday\", \"tuesday\", \"wednesday\", \"thursday\", \"friday\", \"saturday\", \"sunday\"]\n",
    "        day_index = days.index(dayofweek.lower())\n",
    "        days_passed = day_over % 7\n",
    "        new_day_index = (day_index + days_passed) % 7\n",
    "        new_day = days[new_day_index]\n",
    "    else:\n",
    "        pass\n",
    "    \n",
    "    # Arange output\n",
    "    if dayofweek is None:\n",
    "        if next_day is True:\n",
    "            if day_over == 0:\n",
    "                return f\"{hour_remain}:{minute_remain :0>2} {new_mode} (next day)\"\n",
    "            else:\n",
    "                pass\n",
    "        else:\n",
    "            if day_over == 0:\n",
    "                return f\"{hour_remain}:{minute_remain :0>2} {new_mode}\"\n",
    "            elif day_over == 1:\n",
    "                return f\"{hour_remain}:{minute_remain :0>2} {new_mode} (next day)\"\n",
    "            else:\n",
    "                return f\"{hour_remain}:{minute_remain :0>2} {new_mode} ({day_over} days later)\"\n",
    "    else:\n",
    "        if next_day is True:\n",
    "            if day_over == 0:\n",
    "                return f\"{hour_remain}:{minute_remain :0>2} {new_mode}, {new_day.capitalize()} (next day)\"\n",
    "            else:\n",
    "                pass\n",
    "        else:\n",
    "            if day_over == 0:\n",
    "                return f\"{hour_remain}:{minute_remain :0>2} {new_mode}, {new_day.capitalize()}\"\n",
    "            elif day_over == 1:\n",
    "                return f\"{hour_remain}:{minute_remain :0>2} {new_mode}, {new_day.capitalize()} (next day)\" \n",
    "            else:\n",
    "                return f\"{hour_remain}:{minute_remain :0>2} {new_mode}, {new_day.capitalize()} ({day_over} days later)\"        \n",
    "    "
   ]
  },
  {
   "cell_type": "code",
   "execution_count": 102,
   "id": "e563f5d3",
   "metadata": {},
   "outputs": [
    {
     "name": "stdout",
     "output_type": "stream",
     "text": [
      "6:18 AM, Monday (20 days later)\n"
     ]
    }
   ],
   "source": [
    "add_time(\"8:16 PM\", \"466:02\", \"tuesday\")"
   ]
  }
 ],
 "metadata": {
  "kernelspec": {
   "display_name": "Python 3",
   "language": "python",
   "name": "python3"
  },
  "language_info": {
   "codemirror_mode": {
    "name": "ipython",
    "version": 3
   },
   "file_extension": ".py",
   "mimetype": "text/x-python",
   "name": "python",
   "nbconvert_exporter": "python",
   "pygments_lexer": "ipython3",
   "version": "3.8.8"
  }
 },
 "nbformat": 4,
 "nbformat_minor": 5
}
