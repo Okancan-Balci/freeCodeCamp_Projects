{
 "cells": [
  {
   "cell_type": "code",
   "execution_count": 6,
   "id": "7950e568",
   "metadata": {},
   "outputs": [
    {
     "data": {
      "text/plain": [
       "['9999 + 99', '1 - 100', '2000 - 1000', '1 + 1']"
      ]
     },
     "execution_count": 6,
     "metadata": {},
     "output_type": "execute_result"
    }
   ],
   "source": [
    "# Getting the Problem List\n",
    "problems = [\"9999 + 99\", \"1 - 100\", \"2000 - 1000\", \"1 + 1\"]\n",
    "problems"
   ]
  },
  {
   "cell_type": "code",
   "execution_count": 65,
   "id": "c8451d97",
   "metadata": {},
   "outputs": [],
   "source": [
    "def arithmetic_arranger(problems, Solution = False):    \n",
    "    # Checking the maximum amount of problems allowed \n",
    "    list_length = 0\n",
    "    for problem in problems:\n",
    "        list_length = list_length + 1\n",
    "    if list_length > 5:\n",
    "        return \"Error: Too many problems.\"\n",
    "    else :#splitting strings\n",
    "        elements_splitted = list()\n",
    "        for element in problems:\n",
    "            elements_splitted.append(element.split())\n",
    "\n",
    "\n",
    "        elements_dict = dict()\n",
    "        dict_list = list()\n",
    "        for element in elements_splitted:\n",
    "            try:\n",
    "                elements_dict = {'operand_1' : int(element[0]),\n",
    "                                 'operand_2' : int(element[2]),\n",
    "                                 'operator' : element[1]}\n",
    "                dict_list.append(elements_dict)\n",
    "                \n",
    "                for dictionary in dict_list:\n",
    "                    if len(str(dictionary['operand_1'])) > 4 or len(str(dictionary['operand_2'])) > 4:\n",
    "                        return \"Error: Numbers cannot be more than four digits.\"\n",
    "                        break\n",
    "                \n",
    "                for dictionary in dict_list:\n",
    "                    if dictionary['operator'] not in [\"+\", \"-\"]:\n",
    "                        return \"Error: Operator must be '+' or '-'.\"        \n",
    "            except:\n",
    "                return \"Error: Numbers must only contain digits.\"\n",
    "                break\n",
    "    \n",
    "\n",
    "    for dictionary in dict_list:\n",
    "        if Solution is True:\n",
    "            if dictionary['operator'] == \"+\":\n",
    "                result = dictionary['operand_1'] + dictionary['operand_2']\n",
    "                dictionary['result'] = result\n",
    "            elif dictionary['operator'] == \"-\":\n",
    "                result = dictionary['operand_1'] - dictionary['operand_2']\n",
    "                dictionary['result'] = result\n",
    "        else:\n",
    "            pass\n",
    "\n",
    "\n",
    "\n",
    "#Printing Starts Here    \n",
    "        #First Operands\n",
    "    all_problems = list()\n",
    "    problem_counter = 0\n",
    "    for dictionary in dict_list:\n",
    "        problem_counter = problem_counter + 1\n",
    "        leng = max([len(str(dictionary['operand_1'])), len(str(dictionary['operand_2']))])\n",
    "        string = str(dictionary['operand_1'])\n",
    "        if problem_counter == list_length:\n",
    "            all_problems.append(f\"{string:>{leng+2}}\\n\")\n",
    "        else:\n",
    "            all_problems.append(f\"{string:>{leng+2}}    \")\n",
    "        \n",
    "\n",
    "\n",
    "        #Second Operands and Operators\n",
    "    problem_counter = 0\n",
    "    for dictionary in dict_list:\n",
    "        problem_counter = problem_counter + 1\n",
    "        leng = max([len(str(dictionary['operand_1'])), len(str(dictionary['operand_2']))])\n",
    "        string = str(dictionary['operand_2'])\n",
    "        string2 = dictionary['operator']\n",
    "        if problem_counter == list_length:\n",
    "            all_problems.append(f\"{string2} \" + f\"{string:>{leng}}\\n\")\n",
    "        else:\n",
    "            all_problems.append(f\"{string2} \" + f\"{string:>{leng}}    \")\n",
    "    \n",
    "\n",
    "        #Dashes\n",
    "    problem_counter = 0\n",
    "    for dictionary in dict_list:\n",
    "        problem_counter = problem_counter + 1\n",
    "        leng = max([len(str(dictionary['operand_1'])), len(str(dictionary['operand_2']))])\n",
    "        num_dash = leng + 2\n",
    "        if problem_counter == list_length:\n",
    "            if Solution is True:\n",
    "                all_problems.append(\"-\" * num_dash + \"\\n\")\n",
    "            else:\n",
    "                all_problems.append(\"-\" * num_dash)\n",
    "        else:\n",
    "            all_problems.append(\"-\" * num_dash + \"    \")\n",
    "\n",
    "       #Results\n",
    "    if Solution is True:\n",
    "        problem_counter = 0\n",
    "        for dictionary in dict_list:\n",
    "            problem_counter = problem_counter + 1\n",
    "            leng = max([len(str(dictionary['operand_1'])), len(str(dictionary['operand_2']))])\n",
    "            string = str(dictionary['result'])\n",
    "            if problem_counter == list_length:\n",
    "                all_problems.append(f\"{string:>{leng+2}}\")\n",
    "            else:\n",
    "                all_problems.append(f\"{string:>{leng+2}}    \")\n",
    "    else:\n",
    "        pass\n",
    "        \n",
    "\n",
    "        \n",
    "    return ''.join(all_problems)"
   ]
  },
  {
   "cell_type": "code",
   "execution_count": 67,
   "id": "c527414a",
   "metadata": {},
   "outputs": [
    {
     "name": "stdout",
     "output_type": "stream",
     "text": [
      "  9999        1      2000      1\n",
      "+   99    - 100    - 1000    + 1\n",
      "------    -----    ------    ---\n",
      " 10098      -99      1000      2\n"
     ]
    }
   ],
   "source": [
    "arithmetic_arranger(problems, Solution=True)"
   ]
  }
 ],
 "metadata": {
  "kernelspec": {
   "display_name": "Python 3",
   "language": "python",
   "name": "python3"
  },
  "language_info": {
   "codemirror_mode": {
    "name": "ipython",
    "version": 3
   },
   "file_extension": ".py",
   "mimetype": "text/x-python",
   "name": "python",
   "nbconvert_exporter": "python",
   "pygments_lexer": "ipython3",
   "version": "3.8.8"
  }
 },
 "nbformat": 4,
 "nbformat_minor": 5
}
