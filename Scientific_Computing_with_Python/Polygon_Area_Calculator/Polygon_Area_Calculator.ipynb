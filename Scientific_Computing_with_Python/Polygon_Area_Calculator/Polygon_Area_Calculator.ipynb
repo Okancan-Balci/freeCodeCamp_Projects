{
 "cells": [
  {
   "cell_type": "code",
   "execution_count": 97,
   "id": "5d627ca2",
   "metadata": {},
   "outputs": [],
   "source": [
    "class Rectangle:\n",
    "    \n",
    "    def __init__(self, width, height):\n",
    "        self.width = width\n",
    "        self.height = height\n",
    "    \n",
    "    def set_width(self, new_width):\n",
    "        self.width = new_width\n",
    "        \n",
    "    def set_height(self, new_height):\n",
    "        self.height = new_height\n",
    "        \n",
    "    def get_area(self):\n",
    "        return self.width * self.height\n",
    "    \n",
    "    def get_perimeter(self):\n",
    "        return (2 * self.width) + (2 * self.height)\n",
    "    \n",
    "    def get_diagonal(self):\n",
    "        return (self.width ** 2 + self.height ** 2) ** 0.5\n",
    "    \n",
    "    def get_picture(self):\n",
    "        if (self.width > 50) | (self.height > 50):\n",
    "            return \"Too big for picture.\"\n",
    "        else:\n",
    "            string_list = []\n",
    "            for i in range(self.height):\n",
    "                if i == (self.height - 1):\n",
    "                    string_list.append(((self.width - 1) * \"*\") + \"*\\n\")\n",
    "                else:\n",
    "                    string_list.append(((self.width - 1) * \"*\") + \"*\\n\")\n",
    "        \n",
    "        return \"\".join(string_list)\n",
    "    \n",
    "    def get_amount_inside(self, polygon):\n",
    "        times_width = self.width // polygon.width\n",
    "        times_height = self.height // polygon.height\n",
    "        \n",
    "        return times_height * times_width\n",
    "    \n",
    "    def __repr__(self):\n",
    "        return f\"Rectangle(width={self.width}, height={self.height})\""
   ]
  },
  {
   "cell_type": "code",
   "execution_count": 98,
   "id": "97e52100",
   "metadata": {},
   "outputs": [],
   "source": [
    "class Square(Rectangle):\n",
    "    \n",
    "    def __init__(self, side):\n",
    "        self.width = side\n",
    "        self.height = side\n",
    "    \n",
    "    def set_side(self, new_side):\n",
    "        self.width = new_side\n",
    "        self.height = new_side\n",
    "    \n",
    "    def set_width(self, new_side):\n",
    "        self.width = new_side\n",
    "        self.height = new_side\n",
    "        \n",
    "    def set_height(self, new_side):\n",
    "        self.width = new_side\n",
    "        self.height = new_side    \n",
    "    \n",
    "    def __repr__(self):\n",
    "        return f\"Square(side={self.width})\""
   ]
  }
 ],
 "metadata": {
  "kernelspec": {
   "display_name": "Python 3",
   "language": "python",
   "name": "python3"
  },
  "language_info": {
   "codemirror_mode": {
    "name": "ipython",
    "version": 3
   },
   "file_extension": ".py",
   "mimetype": "text/x-python",
   "name": "python",
   "nbconvert_exporter": "python",
   "pygments_lexer": "ipython3",
   "version": "3.8.8"
  }
 },
 "nbformat": 4,
 "nbformat_minor": 5
}
